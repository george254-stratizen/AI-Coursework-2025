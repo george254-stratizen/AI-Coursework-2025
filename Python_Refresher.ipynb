{
 "cells": [
  {
   "cell_type": "code",
   "execution_count": 2,
   "id": "ed888e07",
   "metadata": {},
   "outputs": [
    {
     "name": "stdout",
     "output_type": "stream",
     "text": [
      "5 days contain 432000 seconds.\n"
     ]
    }
   ],
   "source": [
    "# Question 1: Program to calculate number of seconds in given days\n",
    "\n",
    "# Ask the user to input number of days\n",
    "days = int(input(\"Enter number of days: \"))\n",
    "\n",
    "# Calculate number of seconds in the given days\n",
    "seconds = days * 24 * 60 * 60\n",
    "\n",
    "# Display the result\n",
    "print(f\"{days} days contain {seconds} seconds.\")\n"
   ]
  },
  {
   "cell_type": "code",
   "execution_count": null,
   "id": "814453a0",
   "metadata": {},
   "outputs": [
    {
     "name": "stdout",
     "output_type": "stream",
     "text": [
      "The volume of the sphere with radius 14.0 is 11494.04\n"
     ]
    }
   ],
   "source": [
    "# Question 2: Program for calculating volume of a sphere\n",
    "\n",
    "import math\n",
    "\n",
    "# Asking user to input the radius of the sphere\n",
    "radius = float(input(\"Enter radius of the sphere: \"))\n",
    "\n",
    "# Use (**) to compute r^3\n",
    "volume = (4/3) * math.pi * (radius ** 3)\n",
    "\n",
    "# Displaying result\n",
    "print(f\"The volume of the sphere with radius {radius} is {volume:.2f}\")\n"
   ]
  },
  {
   "cell_type": "code",
   "execution_count": null,
   "id": "02098c92",
   "metadata": {},
   "outputs": [],
   "source": [
    "# Question 3: Functions to compute area and perimeter of a square\n",
    "\n",
    "# Defining function for area\n",
    "def area_square(side):\n",
    "    return side * side\n",
    "\n",
    "# Defining function for perimeter\n",
    "def perimeter_square(side):\n",
    "    return 4 * side\n",
    "\n",
    "# Asking user for side length\n",
    "side = float(input(\"Enter the side length of the square: \"))\n",
    "\n",
    "# Computing and displaying results\n",
    "print(f\"Area of square: {area_square(side)}\")\n",
    "print(f\"Perimeter of square: {perimeter_square(side)}\")\n"
   ]
  },
  {
   "cell_type": "code",
   "execution_count": null,
   "id": "14621257",
   "metadata": {},
   "outputs": [],
   "source": [
    "# Question 4: Function to determine if a character is uppercase or lowercase\n",
    "\n",
    "# Define function\n",
    "def check_case(char):\n",
    "    if char.isupper():\n",
    "        return \"Uppercase\"\n",
    "    elif char.islower():\n",
    "        return \"Lowercase\"\n",
    "    else:\n",
    "        return \"Not an alphabet character\"\n",
    "\n",
    "# Asking the user for input\n",
    "char = input(\"Enter a character: \")\n",
    "\n",
    "# Displaying result\n",
    "print(f\"The character '{char}' is {check_case(char)}.\")\n"
   ]
  },
  {
   "cell_type": "code",
   "execution_count": null,
   "id": "e489874c",
   "metadata": {},
   "outputs": [],
   "source": [
    "# Question 5: Convert pseudocode to Python\n",
    "\n",
    "# Initializing values\n",
    "x = 0\n",
    "y = 20\n",
    "\n",
    "# Repeat loop until y is < 6\n",
    "while y >= 6:\n",
    "    y -= 4\n",
    "    x += 2 / y\n",
    "\n",
    "# Displaying the result\n",
    "print(f\"The final value of x is {x}\")\n"
   ]
  },
  {
   "cell_type": "code",
   "execution_count": null,
   "id": "973fd314",
   "metadata": {},
   "outputs": [],
   "source": [
    "# Question 6: Program to input 5 values into an array and to compute average\n",
    "\n",
    "# Creating a list that is empty\n",
    "values = []\n",
    "\n",
    "# Loop for 5 inputs of the user\n",
    "for i in range(5):\n",
    "    num = float(input(f\"Enter value {i+1}: \"))\n",
    "    values.append(num)\n",
    "\n",
    "# Calculate  the average\n",
    "average = sum(values) / len(values)\n",
    "\n",
    "# Displaying the result\n",
    "print(f\"The values entered are: {values}\")\n",
    "print(f\"The average is: {average:.2f}\")\n"
   ]
  },
  {
   "cell_type": "code",
   "execution_count": null,
   "id": "57665d2d",
   "metadata": {},
   "outputs": [],
   "source": [
    "# Question 7: Codility Challenge\n",
    "\n",
    "# I have added the screenshot to my github\n"
   ]
  }
 ],
 "metadata": {
  "colab": {
   "provenance": []
  },
  "kernelspec": {
   "display_name": "Python 3",
   "name": "python3"
  },
  "language_info": {
   "codemirror_mode": {
    "name": "ipython",
    "version": 3
   },
   "file_extension": ".py",
   "mimetype": "text/x-python",
   "name": "python",
   "nbconvert_exporter": "python",
   "pygments_lexer": "ipython3",
   "version": "3.12.6"
  }
 },
 "nbformat": 4,
 "nbformat_minor": 0
}
